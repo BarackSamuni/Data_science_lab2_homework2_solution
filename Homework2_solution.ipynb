{
 "cells": [
  {
   "metadata": {},
   "cell_type": "markdown",
   "source": [
    "# **Data science 2- Homework 2 solution**\n",
    "***"
   ],
   "id": "c15f47d7afe518b6"
  },
  {
   "metadata": {
    "ExecuteTime": {
     "end_time": "2024-07-06T01:29:34.767689Z",
     "start_time": "2024-07-06T01:29:34.180285Z"
    }
   },
   "cell_type": "code",
   "source": [
    "# imports\n",
    "import pandas as pd\n",
    "import matplotlib.pyplot as plt\n",
    "import math\n",
    "import seaborn as sns\n",
    "from IPython.display import display,Markdown\n",
    "import statsmodels.api as sm"
   ],
   "id": "a4b42ea77e7bf2f9",
   "outputs": [],
   "execution_count": 1
  },
  {
   "metadata": {},
   "cell_type": "markdown",
   "source": [
    "## **1. Load the \"Individual household electric power consumption\" dataset** \n",
    "***"
   ],
   "id": "bc57d0aaaa613c06"
  },
  {
   "metadata": {},
   "cell_type": "markdown",
   "source": "First, we will load the dataset and observe it:",
   "id": "f7db093fa1267ddd"
  },
  {
   "metadata": {
    "ExecuteTime": {
     "end_time": "2024-07-06T01:29:35.539764Z",
     "start_time": "2024-07-06T01:29:34.768695Z"
    }
   },
   "cell_type": "code",
   "source": [
    "# first define datatypes for the columns\n",
    "dtypes = {'Date': str,\n",
    "          'Time': str,\n",
    "          'Global_active_power': float,\n",
    "          'Global_reactive_power': float,\n",
    "          'Voltage': float,\n",
    "          'Global_intensity': float,\n",
    "          'Sub_metering_1': float,\n",
    "          'Sub_metering_2': float,\n",
    "          'Sub_metering_3': float}\n",
    "\n",
    "'''\n",
    "fetch the dataset (acknowledging that the seperator is ';' and missing values are marked as '?'\n",
    "'''\n",
    "\n",
    "file_path = 'household_power_consumption.txt'\n",
    "power_consumption_df = pd.read_csv(file_path, sep=';',dtype=dtypes,na_values='?')\n",
    "power_consumption_df.head()"
   ],
   "id": "85bdedc0247f13f1",
   "outputs": [
    {
     "ename": "FileNotFoundError",
     "evalue": "[Errno 2] No such file or directory: 'household_power_consumption.txt'",
     "output_type": "error",
     "traceback": [
      "\u001B[1;31m---------------------------------------------------------------------------\u001B[0m",
      "\u001B[1;31mFileNotFoundError\u001B[0m                         Traceback (most recent call last)",
      "Cell \u001B[1;32mIn[2], line 17\u001B[0m\n\u001B[0;32m     12\u001B[0m \u001B[38;5;124;03m'''\u001B[39;00m\n\u001B[0;32m     13\u001B[0m \u001B[38;5;124;03mfetch the dataset (acknowledging that the seperator is ';' and missing values are marked as '?'\u001B[39;00m\n\u001B[0;32m     14\u001B[0m \u001B[38;5;124;03m'''\u001B[39;00m\n\u001B[0;32m     16\u001B[0m file_path \u001B[38;5;241m=\u001B[39m \u001B[38;5;124m'\u001B[39m\u001B[38;5;124mhousehold_power_consumption.txt\u001B[39m\u001B[38;5;124m'\u001B[39m\n\u001B[1;32m---> 17\u001B[0m power_consumption_df \u001B[38;5;241m=\u001B[39m \u001B[43mpd\u001B[49m\u001B[38;5;241;43m.\u001B[39;49m\u001B[43mread_csv\u001B[49m\u001B[43m(\u001B[49m\u001B[43mfile_path\u001B[49m\u001B[43m,\u001B[49m\u001B[43m \u001B[49m\u001B[43msep\u001B[49m\u001B[38;5;241;43m=\u001B[39;49m\u001B[38;5;124;43m'\u001B[39;49m\u001B[38;5;124;43m;\u001B[39;49m\u001B[38;5;124;43m'\u001B[39;49m\u001B[43m,\u001B[49m\u001B[43mdtype\u001B[49m\u001B[38;5;241;43m=\u001B[39;49m\u001B[43mdtypes\u001B[49m\u001B[43m,\u001B[49m\u001B[43mna_values\u001B[49m\u001B[38;5;241;43m=\u001B[39;49m\u001B[38;5;124;43m'\u001B[39;49m\u001B[38;5;124;43m?\u001B[39;49m\u001B[38;5;124;43m'\u001B[39;49m\u001B[43m)\u001B[49m\n\u001B[0;32m     18\u001B[0m power_consumption_df\u001B[38;5;241m.\u001B[39mhead()\n",
      "File \u001B[1;32mC:\\Data_Science2_Lab\\Homework2\\homework2_venv\\Lib\\site-packages\\pandas\\io\\parsers\\readers.py:1026\u001B[0m, in \u001B[0;36mread_csv\u001B[1;34m(filepath_or_buffer, sep, delimiter, header, names, index_col, usecols, dtype, engine, converters, true_values, false_values, skipinitialspace, skiprows, skipfooter, nrows, na_values, keep_default_na, na_filter, verbose, skip_blank_lines, parse_dates, infer_datetime_format, keep_date_col, date_parser, date_format, dayfirst, cache_dates, iterator, chunksize, compression, thousands, decimal, lineterminator, quotechar, quoting, doublequote, escapechar, comment, encoding, encoding_errors, dialect, on_bad_lines, delim_whitespace, low_memory, memory_map, float_precision, storage_options, dtype_backend)\u001B[0m\n\u001B[0;32m   1013\u001B[0m kwds_defaults \u001B[38;5;241m=\u001B[39m _refine_defaults_read(\n\u001B[0;32m   1014\u001B[0m     dialect,\n\u001B[0;32m   1015\u001B[0m     delimiter,\n\u001B[1;32m   (...)\u001B[0m\n\u001B[0;32m   1022\u001B[0m     dtype_backend\u001B[38;5;241m=\u001B[39mdtype_backend,\n\u001B[0;32m   1023\u001B[0m )\n\u001B[0;32m   1024\u001B[0m kwds\u001B[38;5;241m.\u001B[39mupdate(kwds_defaults)\n\u001B[1;32m-> 1026\u001B[0m \u001B[38;5;28;01mreturn\u001B[39;00m \u001B[43m_read\u001B[49m\u001B[43m(\u001B[49m\u001B[43mfilepath_or_buffer\u001B[49m\u001B[43m,\u001B[49m\u001B[43m \u001B[49m\u001B[43mkwds\u001B[49m\u001B[43m)\u001B[49m\n",
      "File \u001B[1;32mC:\\Data_Science2_Lab\\Homework2\\homework2_venv\\Lib\\site-packages\\pandas\\io\\parsers\\readers.py:620\u001B[0m, in \u001B[0;36m_read\u001B[1;34m(filepath_or_buffer, kwds)\u001B[0m\n\u001B[0;32m    617\u001B[0m _validate_names(kwds\u001B[38;5;241m.\u001B[39mget(\u001B[38;5;124m\"\u001B[39m\u001B[38;5;124mnames\u001B[39m\u001B[38;5;124m\"\u001B[39m, \u001B[38;5;28;01mNone\u001B[39;00m))\n\u001B[0;32m    619\u001B[0m \u001B[38;5;66;03m# Create the parser.\u001B[39;00m\n\u001B[1;32m--> 620\u001B[0m parser \u001B[38;5;241m=\u001B[39m \u001B[43mTextFileReader\u001B[49m\u001B[43m(\u001B[49m\u001B[43mfilepath_or_buffer\u001B[49m\u001B[43m,\u001B[49m\u001B[43m \u001B[49m\u001B[38;5;241;43m*\u001B[39;49m\u001B[38;5;241;43m*\u001B[39;49m\u001B[43mkwds\u001B[49m\u001B[43m)\u001B[49m\n\u001B[0;32m    622\u001B[0m \u001B[38;5;28;01mif\u001B[39;00m chunksize \u001B[38;5;129;01mor\u001B[39;00m iterator:\n\u001B[0;32m    623\u001B[0m     \u001B[38;5;28;01mreturn\u001B[39;00m parser\n",
      "File \u001B[1;32mC:\\Data_Science2_Lab\\Homework2\\homework2_venv\\Lib\\site-packages\\pandas\\io\\parsers\\readers.py:1620\u001B[0m, in \u001B[0;36mTextFileReader.__init__\u001B[1;34m(self, f, engine, **kwds)\u001B[0m\n\u001B[0;32m   1617\u001B[0m     \u001B[38;5;28mself\u001B[39m\u001B[38;5;241m.\u001B[39moptions[\u001B[38;5;124m\"\u001B[39m\u001B[38;5;124mhas_index_names\u001B[39m\u001B[38;5;124m\"\u001B[39m] \u001B[38;5;241m=\u001B[39m kwds[\u001B[38;5;124m\"\u001B[39m\u001B[38;5;124mhas_index_names\u001B[39m\u001B[38;5;124m\"\u001B[39m]\n\u001B[0;32m   1619\u001B[0m \u001B[38;5;28mself\u001B[39m\u001B[38;5;241m.\u001B[39mhandles: IOHandles \u001B[38;5;241m|\u001B[39m \u001B[38;5;28;01mNone\u001B[39;00m \u001B[38;5;241m=\u001B[39m \u001B[38;5;28;01mNone\u001B[39;00m\n\u001B[1;32m-> 1620\u001B[0m \u001B[38;5;28mself\u001B[39m\u001B[38;5;241m.\u001B[39m_engine \u001B[38;5;241m=\u001B[39m \u001B[38;5;28;43mself\u001B[39;49m\u001B[38;5;241;43m.\u001B[39;49m\u001B[43m_make_engine\u001B[49m\u001B[43m(\u001B[49m\u001B[43mf\u001B[49m\u001B[43m,\u001B[49m\u001B[43m \u001B[49m\u001B[38;5;28;43mself\u001B[39;49m\u001B[38;5;241;43m.\u001B[39;49m\u001B[43mengine\u001B[49m\u001B[43m)\u001B[49m\n",
      "File \u001B[1;32mC:\\Data_Science2_Lab\\Homework2\\homework2_venv\\Lib\\site-packages\\pandas\\io\\parsers\\readers.py:1880\u001B[0m, in \u001B[0;36mTextFileReader._make_engine\u001B[1;34m(self, f, engine)\u001B[0m\n\u001B[0;32m   1878\u001B[0m     \u001B[38;5;28;01mif\u001B[39;00m \u001B[38;5;124m\"\u001B[39m\u001B[38;5;124mb\u001B[39m\u001B[38;5;124m\"\u001B[39m \u001B[38;5;129;01mnot\u001B[39;00m \u001B[38;5;129;01min\u001B[39;00m mode:\n\u001B[0;32m   1879\u001B[0m         mode \u001B[38;5;241m+\u001B[39m\u001B[38;5;241m=\u001B[39m \u001B[38;5;124m\"\u001B[39m\u001B[38;5;124mb\u001B[39m\u001B[38;5;124m\"\u001B[39m\n\u001B[1;32m-> 1880\u001B[0m \u001B[38;5;28mself\u001B[39m\u001B[38;5;241m.\u001B[39mhandles \u001B[38;5;241m=\u001B[39m \u001B[43mget_handle\u001B[49m\u001B[43m(\u001B[49m\n\u001B[0;32m   1881\u001B[0m \u001B[43m    \u001B[49m\u001B[43mf\u001B[49m\u001B[43m,\u001B[49m\n\u001B[0;32m   1882\u001B[0m \u001B[43m    \u001B[49m\u001B[43mmode\u001B[49m\u001B[43m,\u001B[49m\n\u001B[0;32m   1883\u001B[0m \u001B[43m    \u001B[49m\u001B[43mencoding\u001B[49m\u001B[38;5;241;43m=\u001B[39;49m\u001B[38;5;28;43mself\u001B[39;49m\u001B[38;5;241;43m.\u001B[39;49m\u001B[43moptions\u001B[49m\u001B[38;5;241;43m.\u001B[39;49m\u001B[43mget\u001B[49m\u001B[43m(\u001B[49m\u001B[38;5;124;43m\"\u001B[39;49m\u001B[38;5;124;43mencoding\u001B[39;49m\u001B[38;5;124;43m\"\u001B[39;49m\u001B[43m,\u001B[49m\u001B[43m \u001B[49m\u001B[38;5;28;43;01mNone\u001B[39;49;00m\u001B[43m)\u001B[49m\u001B[43m,\u001B[49m\n\u001B[0;32m   1884\u001B[0m \u001B[43m    \u001B[49m\u001B[43mcompression\u001B[49m\u001B[38;5;241;43m=\u001B[39;49m\u001B[38;5;28;43mself\u001B[39;49m\u001B[38;5;241;43m.\u001B[39;49m\u001B[43moptions\u001B[49m\u001B[38;5;241;43m.\u001B[39;49m\u001B[43mget\u001B[49m\u001B[43m(\u001B[49m\u001B[38;5;124;43m\"\u001B[39;49m\u001B[38;5;124;43mcompression\u001B[39;49m\u001B[38;5;124;43m\"\u001B[39;49m\u001B[43m,\u001B[49m\u001B[43m \u001B[49m\u001B[38;5;28;43;01mNone\u001B[39;49;00m\u001B[43m)\u001B[49m\u001B[43m,\u001B[49m\n\u001B[0;32m   1885\u001B[0m \u001B[43m    \u001B[49m\u001B[43mmemory_map\u001B[49m\u001B[38;5;241;43m=\u001B[39;49m\u001B[38;5;28;43mself\u001B[39;49m\u001B[38;5;241;43m.\u001B[39;49m\u001B[43moptions\u001B[49m\u001B[38;5;241;43m.\u001B[39;49m\u001B[43mget\u001B[49m\u001B[43m(\u001B[49m\u001B[38;5;124;43m\"\u001B[39;49m\u001B[38;5;124;43mmemory_map\u001B[39;49m\u001B[38;5;124;43m\"\u001B[39;49m\u001B[43m,\u001B[49m\u001B[43m \u001B[49m\u001B[38;5;28;43;01mFalse\u001B[39;49;00m\u001B[43m)\u001B[49m\u001B[43m,\u001B[49m\n\u001B[0;32m   1886\u001B[0m \u001B[43m    \u001B[49m\u001B[43mis_text\u001B[49m\u001B[38;5;241;43m=\u001B[39;49m\u001B[43mis_text\u001B[49m\u001B[43m,\u001B[49m\n\u001B[0;32m   1887\u001B[0m \u001B[43m    \u001B[49m\u001B[43merrors\u001B[49m\u001B[38;5;241;43m=\u001B[39;49m\u001B[38;5;28;43mself\u001B[39;49m\u001B[38;5;241;43m.\u001B[39;49m\u001B[43moptions\u001B[49m\u001B[38;5;241;43m.\u001B[39;49m\u001B[43mget\u001B[49m\u001B[43m(\u001B[49m\u001B[38;5;124;43m\"\u001B[39;49m\u001B[38;5;124;43mencoding_errors\u001B[39;49m\u001B[38;5;124;43m\"\u001B[39;49m\u001B[43m,\u001B[49m\u001B[43m \u001B[49m\u001B[38;5;124;43m\"\u001B[39;49m\u001B[38;5;124;43mstrict\u001B[39;49m\u001B[38;5;124;43m\"\u001B[39;49m\u001B[43m)\u001B[49m\u001B[43m,\u001B[49m\n\u001B[0;32m   1888\u001B[0m \u001B[43m    \u001B[49m\u001B[43mstorage_options\u001B[49m\u001B[38;5;241;43m=\u001B[39;49m\u001B[38;5;28;43mself\u001B[39;49m\u001B[38;5;241;43m.\u001B[39;49m\u001B[43moptions\u001B[49m\u001B[38;5;241;43m.\u001B[39;49m\u001B[43mget\u001B[49m\u001B[43m(\u001B[49m\u001B[38;5;124;43m\"\u001B[39;49m\u001B[38;5;124;43mstorage_options\u001B[39;49m\u001B[38;5;124;43m\"\u001B[39;49m\u001B[43m,\u001B[49m\u001B[43m \u001B[49m\u001B[38;5;28;43;01mNone\u001B[39;49;00m\u001B[43m)\u001B[49m\u001B[43m,\u001B[49m\n\u001B[0;32m   1889\u001B[0m \u001B[43m\u001B[49m\u001B[43m)\u001B[49m\n\u001B[0;32m   1890\u001B[0m \u001B[38;5;28;01massert\u001B[39;00m \u001B[38;5;28mself\u001B[39m\u001B[38;5;241m.\u001B[39mhandles \u001B[38;5;129;01mis\u001B[39;00m \u001B[38;5;129;01mnot\u001B[39;00m \u001B[38;5;28;01mNone\u001B[39;00m\n\u001B[0;32m   1891\u001B[0m f \u001B[38;5;241m=\u001B[39m \u001B[38;5;28mself\u001B[39m\u001B[38;5;241m.\u001B[39mhandles\u001B[38;5;241m.\u001B[39mhandle\n",
      "File \u001B[1;32mC:\\Data_Science2_Lab\\Homework2\\homework2_venv\\Lib\\site-packages\\pandas\\io\\common.py:873\u001B[0m, in \u001B[0;36mget_handle\u001B[1;34m(path_or_buf, mode, encoding, compression, memory_map, is_text, errors, storage_options)\u001B[0m\n\u001B[0;32m    868\u001B[0m \u001B[38;5;28;01melif\u001B[39;00m \u001B[38;5;28misinstance\u001B[39m(handle, \u001B[38;5;28mstr\u001B[39m):\n\u001B[0;32m    869\u001B[0m     \u001B[38;5;66;03m# Check whether the filename is to be opened in binary mode.\u001B[39;00m\n\u001B[0;32m    870\u001B[0m     \u001B[38;5;66;03m# Binary mode does not support 'encoding' and 'newline'.\u001B[39;00m\n\u001B[0;32m    871\u001B[0m     \u001B[38;5;28;01mif\u001B[39;00m ioargs\u001B[38;5;241m.\u001B[39mencoding \u001B[38;5;129;01mand\u001B[39;00m \u001B[38;5;124m\"\u001B[39m\u001B[38;5;124mb\u001B[39m\u001B[38;5;124m\"\u001B[39m \u001B[38;5;129;01mnot\u001B[39;00m \u001B[38;5;129;01min\u001B[39;00m ioargs\u001B[38;5;241m.\u001B[39mmode:\n\u001B[0;32m    872\u001B[0m         \u001B[38;5;66;03m# Encoding\u001B[39;00m\n\u001B[1;32m--> 873\u001B[0m         handle \u001B[38;5;241m=\u001B[39m \u001B[38;5;28;43mopen\u001B[39;49m\u001B[43m(\u001B[49m\n\u001B[0;32m    874\u001B[0m \u001B[43m            \u001B[49m\u001B[43mhandle\u001B[49m\u001B[43m,\u001B[49m\n\u001B[0;32m    875\u001B[0m \u001B[43m            \u001B[49m\u001B[43mioargs\u001B[49m\u001B[38;5;241;43m.\u001B[39;49m\u001B[43mmode\u001B[49m\u001B[43m,\u001B[49m\n\u001B[0;32m    876\u001B[0m \u001B[43m            \u001B[49m\u001B[43mencoding\u001B[49m\u001B[38;5;241;43m=\u001B[39;49m\u001B[43mioargs\u001B[49m\u001B[38;5;241;43m.\u001B[39;49m\u001B[43mencoding\u001B[49m\u001B[43m,\u001B[49m\n\u001B[0;32m    877\u001B[0m \u001B[43m            \u001B[49m\u001B[43merrors\u001B[49m\u001B[38;5;241;43m=\u001B[39;49m\u001B[43merrors\u001B[49m\u001B[43m,\u001B[49m\n\u001B[0;32m    878\u001B[0m \u001B[43m            \u001B[49m\u001B[43mnewline\u001B[49m\u001B[38;5;241;43m=\u001B[39;49m\u001B[38;5;124;43m\"\u001B[39;49m\u001B[38;5;124;43m\"\u001B[39;49m\u001B[43m,\u001B[49m\n\u001B[0;32m    879\u001B[0m \u001B[43m        \u001B[49m\u001B[43m)\u001B[49m\n\u001B[0;32m    880\u001B[0m     \u001B[38;5;28;01melse\u001B[39;00m:\n\u001B[0;32m    881\u001B[0m         \u001B[38;5;66;03m# Binary mode\u001B[39;00m\n\u001B[0;32m    882\u001B[0m         handle \u001B[38;5;241m=\u001B[39m \u001B[38;5;28mopen\u001B[39m(handle, ioargs\u001B[38;5;241m.\u001B[39mmode)\n",
      "\u001B[1;31mFileNotFoundError\u001B[0m: [Errno 2] No such file or directory: 'household_power_consumption.txt'"
     ]
    }
   ],
   "execution_count": 2
  },
  {
   "metadata": {},
   "cell_type": "markdown",
   "source": [
    "We can see that we have 9 features:\n",
    "* Date\n",
    "* Time\n",
    "* Global_active_power\n",
    "* Global_reactive_power\n",
    "* Voltage\n",
    "* Global_intensity\n",
    "* Sub_metering_1\n",
    "* Sub_metering_2\n",
    "* Sub_metering_3\n",
    "\n",
    "However, our target (active energy consumed every minute) is still not present in the dataset and needs to be calculated. Also, we would like to combine date and time to a one feature called: \"datetime\"."
   ],
   "id": "6c972741a170553d"
  },
  {
   "metadata": {},
   "cell_type": "code",
   "source": [
    "# combine date and time into datetime\n",
    "power_consumption_df['Datetime'] = pd.to_datetime(power_consumption_df['Date'] + ' ' + power_consumption_df['Time'], format='%d/%m/%Y %H:%M:%S')\n",
    "\n",
    "# Set the datetime column as index\n",
    "power_consumption_df.set_index('Datetime', inplace=True)\n",
    "\n",
    "# Drop the original Date and TIme columns\n",
    "power_consumption_df.drop(columns=['Date', 'Time'], inplace=True)\n",
    "power_consumption_df['active_power_per_minute'] = (power_consumption_df['Global_active_power'] * 1000 / 60) - (power_consumption_df['Sub_metering_1'] + power_consumption_df['Sub_metering_2'] + power_consumption_df['Sub_metering_3'])\n",
    "power_consumption_df.head()"
   ],
   "id": "68ae7ee206c5ef9",
   "outputs": [],
   "execution_count": null
  },
  {
   "metadata": {},
   "cell_type": "markdown",
   "source": [
    "## 2. **EDA**\n",
    "***"
   ],
   "id": "ffda38ed32926ef5"
  },
  {
   "metadata": {},
   "cell_type": "markdown",
   "source": [
    "### **Visualize time series trends**\n",
    "*** "
   ],
   "id": "fe44b640e695735b"
  },
  {
   "metadata": {},
   "cell_type": "markdown",
   "source": "We will first view the time series trends",
   "id": "6c2ef231dad4f28b"
  },
  {
   "metadata": {},
   "cell_type": "code",
   "source": [
    "def visualize_time_trends(data,columns_to_omit=None,resample=None):\n",
    "    num_plots = len(data.columns) - len(columns_to_omit) if columns_to_omit is not None else len(data.columns)\n",
    "    num_rows = num_cols = math.ceil(math.sqrt(num_plots))\n",
    "    \n",
    "    fig, axes = plt.subplots(num_rows, num_cols, figsize=(15,10))\n",
    "    if columns_to_omit is  None:\n",
    "        columns_to_omit = []\n",
    "        \n",
    "    i = j = 0\n",
    "    \n",
    "    for column in data.columns:\n",
    "        if column not in columns_to_omit:\n",
    "            if resample is None:\n",
    "                axes[i, j].plot(data[column], label=column)\n",
    "                \n",
    "            else:\n",
    "                axes[i, j].plot(data[column].resample(resample).mean(), label=column)\n",
    "                \n",
    "            axes[i, j].set_title(f'Time series for {column}')\n",
    "            axes[i, j].set_xlabel('Datetime')\n",
    "            axes[i, j].set_ylabel(f\"value\")\n",
    "            axes[i,j].legend()\n",
    "            j += 1\n",
    "            \n",
    "            if j == num_cols:\n",
    "                j = 0\n",
    "                i += 1\n",
    "                \n",
    "    if math.sqrt(num_plots) < num_cols:\n",
    "        axes[-1,-1].axis('off') # hide the last plot\n",
    "    \n",
    "    plt.tight_layout()\n",
    "    plt.grid(True)\n",
    "    plt.show()\n",
    "\n",
    "visualize_time_trends(power_consumption_df)"
   ],
   "id": "4ea854a5e783b1f9",
   "outputs": [],
   "execution_count": null
  },
  {
   "metadata": {},
   "cell_type": "markdown",
   "source": "let's try to resample the data to get some better visualization:\n",
   "id": "c83bb010c297912b"
  },
  {
   "metadata": {},
   "cell_type": "code",
   "source": "visualize_time_trends(data=power_consumption_df,resample='D')   # daily resampling",
   "id": "ca59cc13653fe2f2",
   "outputs": [],
   "execution_count": null
  },
  {
   "metadata": {},
   "cell_type": "code",
   "source": "visualize_time_trends(data=power_consumption_df,resample='W')   # weekly resampling",
   "id": "8d8ab86945884112",
   "outputs": [],
   "execution_count": null
  },
  {
   "metadata": {},
   "cell_type": "code",
   "source": "visualize_time_trends(data=power_consumption_df,resample='ME')   # monthly resampling",
   "id": "3d4176ddc9632bb",
   "outputs": [],
   "execution_count": null
  },
  {
   "metadata": {},
   "cell_type": "code",
   "source": "visualize_time_trends(data=power_consumption_df,resample='YE')   # annual resampling",
   "id": "f6357f8cb80c53f5",
   "outputs": [],
   "execution_count": null
  },
  {
   "metadata": {},
   "cell_type": "markdown",
   "source": [
    "### **Check for seasonality and cyclical patterns**\n",
    "***"
   ],
   "id": "db13a00a2f350d29"
  },
  {
   "metadata": {},
   "cell_type": "markdown",
   "source": [
    "According to the time series trends we can say the following:\n",
    "1. **Global Active Power**\n",
    "\n",
    "    * **Seasonality:** It seems like there are strong seasonal patterns with regular peaks and troughs (best appeared in the monthly resampling). This phenomenon could be explained by high power consumption during certain times of the year (for example, hot summer days)\n",
    "         \n",
    "   * **Cyclical Patterns:** There may be some longer-term trends, but they are overshadowed and difficult to isolate from the clear seasonal patterns without further analysis.\n",
    "\n",
    "2. **Global reactive power**\n",
    "    * **Seasonality:** Similar to Global Active Power, we can see a strong seasonal pattern (which makes sense, since the reactive power are the losses from the electrical appliances of the consumer, so they should have the same seasonality as the active power)\n",
    "      \n",
    "    * **Cyclical Patterns:** The same as the active power - longer term trends are less apparent, since there is a strong seasonal pattern.\n",
    "\n",
    "3. **Voltage** \n",
    "    * **Seasonality:** The voltage shows less clear seasonal patterns (it doesn't seem to have a constant period) compared to power consumption, though there are still some periodic fluctuations (it seems clearer in the weekly or monthly resampling)\n",
    "      \n",
    "    * **Cyclical Patterns:** If there are any cyclical patterns in the voltage, they are not very prominent.\n",
    "\n",
    "4. **Global Intensity**\n",
    "    * **Seasonality:** There is a clear seasonal pattern, with regular fluctuations which again could be explained by periods of higher electricity demand.\n",
    "      \n",
    "    * **Cyclical Patterns:** Similar to the Global Active Power, the cyclical trends are less evident due to the dominant seasonal patterns.\n",
    "\n",
    "5. **Sub Metering 1,2, and 3:** \n",
    "    * **Seasonality:** Each sub metering shows distinct seasonal patterns, likely corresponding to specific appliances that have different regular usage cycles.\n",
    "      \n",
    "    * **Cyclical Patterns:** Less apparent, as the data is dominated by strong seasonal patterns.\n",
    "\n",
    "6. **Active Power Per Minute**\n",
    "    * **Seasonality:** There is a noticeable seasonal trend with regular peaks and troughs.\n",
    "      \n",
    "    *  **Cyclical Patterns:** Any cyclical trends are overshadowed by the strong seasonality.\n",
    "\n",
    "\n",
    "**Conclusion**\n",
    "\n",
    "This dataset exhibits strong seasonal patterns across most of the features, as well as the target variable (active power per minute). The seasonal patterns are consistent and predictable, and most likely correspond to higher and lower power demand during different periods of the year.\n",
    "\n",
    "Cyclical patterns in this dataset are harder to distinguish from the seasonal ones, due to the dominance of the seasonal patterns."
   ],
   "id": "2ef2070da2ad5a1f"
  },
  {
   "metadata": {},
   "cell_type": "markdown",
   "source": [
    "### **Analyze distribution of power consumption**\n",
    "***"
   ],
   "id": "f6a06d32ee0b724f"
  },
  {
   "metadata": {},
   "cell_type": "code",
   "source": [
    "def visualize_distributions(data,columns_to_omit=None):\n",
    "    num_plots = len(data.columns) - len(columns_to_omit) if columns_to_omit is not None else len(data.columns)\n",
    "    num_rows = num_cols = math.ceil(math.sqrt(num_plots))\n",
    "    \n",
    "    fig, axes = plt.subplots(num_rows, num_cols, figsize=(15,10))\n",
    "    \n",
    "    if columns_to_omit is  None:\n",
    "        columns_to_omit = []\n",
    "        \n",
    "    i = j = 0\n",
    "    \n",
    "    for column in data.columns:\n",
    "        if column not in columns_to_omit:\n",
    "            sns.histplot(x=data[column], label=column,kde=True,ax=axes[i,j])\n",
    "            axes[i, j].set_title(f'Distribution of {column}')\n",
    "            axes[i, j].set_xlabel('Value')\n",
    "            axes[i, j].set_ylabel(\"Count\")\n",
    "            axes[i,j].legend()\n",
    "            j += 1\n",
    "            \n",
    "            if j == num_cols:\n",
    "                j = 0\n",
    "                i += 1\n",
    "                \n",
    "    if math.sqrt(num_plots) < num_cols:\n",
    "        axes[-1,-1].axis('off') # hide the last plot\n",
    "    \n",
    "    plt.tight_layout()\n",
    "    plt.grid(True)\n",
    "    plt.show()\n",
    "\n",
    "visualize_distributions(data=power_consumption_df)"
   ],
   "id": "bdd7f4c9850a5700",
   "outputs": [],
   "execution_count": null
  },
  {
   "metadata": {},
   "cell_type": "markdown",
   "source": [
    "From the distributions we can draw the following conclusions:\n",
    "* The Global Active power seems to be consisted of two different normal distributions, one centered near 0, and the other centered at approximately 1.7. That could imply some different seasonal patterns within the year, one with lower power consumption, and the other - with a higher one.\n",
    "\n",
    "* The Global reactive power seems to be less sparse, and will most likely be near 0. It implies that the electricity network is efficient and doesn't suffer from many losses :) .\n",
    "\n",
    "* The voltage is clearly normally distributed with a mean around 240V (which makes sense since it's a French household). The voltage consumption is sparse, and that could be explained by different voltage consumptions from different appliances.\n",
    "\n",
    "* Just like Global Active Power, the Global Intensity also seems to be consisted of two normal distributions which can imply different seasonal patterns - one centered at approximately 0 and one centered at approximately 5 .\n",
    "\n",
    "* Sub Metering 1 seems to be most likely near 0. It could imply that this type of appliance consume much less energy.\n",
    "* Sub metering 2 seems to have much less value counts... It could imply that this column has missing values (we will check that right in the next cell).\n",
    "\n",
    "* Sub Metering 3 seems to be more distributed. It has some peaks between 0 and 2 (most of the values lie there) but it also has a decent amount of values between 15-20. It could be interpreted either as a high power consumption period, or as outliers.\n",
    "\n",
    "* Active power per minute seems slightly normally distributed, with a peak between 0 and 20 (let's say it's about 5...)"
   ],
   "id": "1ca18e55a336fb6"
  },
  {
   "metadata": {},
   "cell_type": "markdown",
   "source": [
    "### **Identify and handle missing values and outliers**\n",
    "***"
   ],
   "id": "d5fd86496a2669ce"
  },
  {
   "metadata": {},
   "cell_type": "markdown",
   "source": "First, let's check for missing values and where they lie (**Note:** we have already noticed that missing values are marked as '?', and made Pandas interpret that as N.A.):",
   "id": "cc12e749e3944c8b"
  },
  {
   "metadata": {},
   "cell_type": "code",
   "source": [
    "display(power_consumption_df.isna().sum())\n",
    "display(Markdown(f'##### {power_consumption_df.isna().sum().iloc[0]/ power_consumption_df.shape[0] * 100}% of the data is missing'))"
   ],
   "id": "7f85760522bcb7a3",
   "outputs": [],
   "execution_count": null
  },
  {
   "metadata": {},
   "cell_type": "markdown",
   "source": "We can see that all the measurements columns has missing values, all with the same amount of missing values (25979 which is approximately 1.25% of the data, just as the dataset documentation described).",
   "id": "c179ec9a1aae9889"
  },
  {
   "metadata": {},
   "cell_type": "markdown",
   "source": "Now let's check for outliers:",
   "id": "8b134c34ba38e186"
  },
  {
   "metadata": {},
   "cell_type": "code",
   "source": [
    "def visualize_boxplots(data,columns_to_omit=None):\n",
    "    num_plots = len(data.columns) - len(columns_to_omit) if columns_to_omit is not None else len(data.columns)\n",
    "    num_rows = num_cols = math.ceil(math.sqrt(num_plots))\n",
    "    \n",
    "    fig, axes = plt.subplots(num_rows, num_cols, figsize=(15,10))\n",
    "    \n",
    "    if columns_to_omit is  None:\n",
    "        columns_to_omit = []\n",
    "        \n",
    "    i = j = 0\n",
    "    \n",
    "    for column in data.columns:\n",
    "        if column not in columns_to_omit:\n",
    "            sns.boxplot(x=data[column], label=column,ax=axes[i,j])\n",
    "            axes[i, j].set_title(f'boxplot  of {column}')\n",
    "            axes[i, j].set_xlabel('Value')\n",
    "            axes[i,j].legend()\n",
    "            j += 1\n",
    "            \n",
    "            if j == num_cols:\n",
    "                j = 0\n",
    "                i += 1\n",
    "                \n",
    "    if math.sqrt(num_plots) < num_cols:\n",
    "        axes[-1,-1].axis('off') # hide the last plot\n",
    "    \n",
    "    plt.tight_layout()\n",
    "    plt.grid(True)\n",
    "    plt.show()\n",
    "\n",
    "visualize_boxplots(data=power_consumption_df)"
   ],
   "id": "6e91fb9bdfc84d6e",
   "outputs": [],
   "execution_count": null
  },
  {
   "metadata": {},
   "cell_type": "markdown",
   "source": "From the boxplots, we can see that the dataset has a lot of outliers. However, that could be explained by different seasonal patterns of power consumption within the year. Therefore, we wouldn't like to manipulate these outliers, on the contrary - we would like to use them in order to predict high / low power consumptions on certain periods during the year.",
   "id": "1f95392d36b0e098"
  },
  {
   "metadata": {},
   "cell_type": "markdown",
   "source": "So, let's first handle the missing values. We will impute them using forward fill method. This method  will fill the missing values with the last observed value. First, since our target variable is calculated, we will remove it. Then, we will forward fill all the missing values, and only then - we will re-calculate our target variable (active power per minute)",
   "id": "e9be15acc280176d"
  },
  {
   "metadata": {},
   "cell_type": "code",
   "source": [
    "power_consumption_df_no_missing = power_consumption_df.copy()\n",
    "power_consumption_df_no_missing.drop(columns=['active_power_per_minute'],inplace=True)\n",
    "\n",
    "for _column in power_consumption_df_no_missing.columns:\n",
    "    # forward fill the column\n",
    "    power_consumption_df_no_missing[_column] = power_consumption_df_no_missing[_column].ffill() \n",
    "\n",
    "# check for the existence of missing values again\n",
    "power_consumption_df_no_missing.isna().sum()"
   ],
   "id": "90b29e33267337cf",
   "outputs": [],
   "execution_count": null
  },
  {
   "metadata": {},
   "cell_type": "markdown",
   "source": "Now that we have no missing values, let's re-calculate our target variable (active_power_per_minute):",
   "id": "b14afa2a9508700e"
  },
  {
   "metadata": {},
   "cell_type": "code",
   "source": [
    "power_consumption_df_no_missing['active_power_per_minute'] = (power_consumption_df_no_missing['Global_active_power'] * 1000 / 60) - (power_consumption_df_no_missing['Sub_metering_1'] + power_consumption_df_no_missing['Sub_metering_2'] + power_consumption_df_no_missing['Sub_metering_3'])\n",
    "power_consumption_df_no_missing.head()"
   ],
   "id": "62e4c5b9f75ad25e",
   "outputs": [],
   "execution_count": null
  },
  {
   "metadata": {},
   "cell_type": "code",
   "source": "",
   "id": "63da54722973bc7",
   "outputs": [],
   "execution_count": null
  }
 ],
 "metadata": {
  "kernelspec": {
   "display_name": "Python 3",
   "language": "python",
   "name": "python3"
  },
  "language_info": {
   "codemirror_mode": {
    "name": "ipython",
    "version": 2
   },
   "file_extension": ".py",
   "mimetype": "text/x-python",
   "name": "python",
   "nbconvert_exporter": "python",
   "pygments_lexer": "ipython2",
   "version": "2.7.6"
  }
 },
 "nbformat": 4,
 "nbformat_minor": 5
}
